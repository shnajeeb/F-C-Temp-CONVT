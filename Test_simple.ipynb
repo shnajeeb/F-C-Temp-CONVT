{
  "nbformat": 4,
  "nbformat_minor": 0,
  "metadata": {
    "colab": {
      "provenance": [],
      "gpuType": "V28",
      "authorship_tag": "ABX9TyMyspvkDWIcm+8waDJsyShl",
      "include_colab_link": true
    },
    "kernelspec": {
      "name": "python3",
      "display_name": "Python 3"
    },
    "language_info": {
      "name": "python"
    },
    "accelerator": "TPU"
  },
  "cells": [
    {
      "cell_type": "markdown",
      "metadata": {
        "id": "view-in-github",
        "colab_type": "text"
      },
      "source": [
        "<a href=\"https://colab.research.google.com/github/shnajeeb/F-C-Temp-CONVT/blob/main/Test_simple.ipynb\" target=\"_parent\"><img src=\"https://colab.research.google.com/assets/colab-badge.svg\" alt=\"Open In Colab\"/></a>"
      ]
    },
    {
      "cell_type": "code",
      "source": [
        "def celsius_to_fahrenheit(celsius):\n",
        "    return (celsius * 9/5) + 32\n",
        "\n",
        "def fahrenheit_to_celsius(fahrenheit):\n",
        "    return (fahrenheit - 32) * 5/9\n",
        "\n",
        "def main():\n",
        "    print(\"Temperature Converter\")\n",
        "    print(\"1. Celsius to Fahrenheit\")\n",
        "    print(\"2. Fahrenheit to Celsius\")\n",
        "\n",
        "    choice = input(\"Enter your choice (1/2): \")\n",
        "\n",
        "    if choice == '1':\n",
        "        celsius = float(input(\"Enter temperature in Celsius: \"))\n",
        "        fahrenheit = celsius_to_fahrenheit(celsius)\n",
        "        print(f\"{celsius}°C is equal to {fahrenheit:.2f}°F\")\n",
        "    elif choice == '2':\n",
        "        fahrenheit = float(input(\"Enter temperature in Fahrenheit: \"))\n",
        "        celsius = fahrenheit_to_celsius(fahrenheit)\n",
        "        print(f\"{fahrenheit}°F is equal to {celsius:.2f}°C\")\n",
        "    else:\n",
        "        print(\"Invalid choice! Please select 1 or 2.\")\n",
        "\n",
        "if __name__ == \"__main__\":\n",
        "    main()\n"
      ],
      "metadata": {
        "colab": {
          "base_uri": "https://localhost:8080/"
        },
        "id": "Biitu_9j_iL3",
        "outputId": "e54fbd2a-ca7a-4484-df9d-dd9bcee2fb52"
      },
      "execution_count": 3,
      "outputs": [
        {
          "output_type": "stream",
          "name": "stdout",
          "text": [
            "Temperature Converter\n",
            "1. Celsius to Fahrenheit\n",
            "2. Fahrenheit to Celsius\n",
            "Enter your choice (1/2): 1\n",
            "Enter temperature in Celsius: 20\n",
            "20.0°C is equal to 68.00°F\n"
          ]
        }
      ]
    }
  ]
}